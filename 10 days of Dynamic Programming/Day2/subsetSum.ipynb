{
 "cells": [
  {
   "cell_type": "markdown",
   "metadata": {},
   "source": [
    "# Subset Sum Problem\n",
    "\n",
    "## Problem Statement\n",
    "Two input parameters are provided i.e. arr[] and sum <br>\n",
    "arr[] : 2, 3, 7, 8, 10 <br>\n",
    "sum = 11 <br>\n",
    "find the subset such that we get the sum and return True if present and False if not"
   ]
  },
  {
   "cell_type": "code",
   "execution_count": 7,
   "metadata": {},
   "outputs": [
    {
     "name": "stdout",
     "output_type": "stream",
     "text": [
      "Found a subset with given sum\n"
     ]
    }
   ],
   "source": [
    "def isSubsetSum(set, n, sum): \n",
    "\n",
    "\tsubset =([[False for i in range(sum + 1)] \n",
    "\t\t\tfor i in range(n + 1)]) \n",
    "\n",
    "\tfor i in range(n + 1): \n",
    "\t\tsubset[i][0] = True\n",
    "\n",
    "\tfor i in range(1, sum + 1): \n",
    "\t\tsubset[0][i]= False\n",
    " \n",
    "\tfor i in range(1, n + 1): \n",
    "\t\tfor j in range(1, sum + 1): \n",
    "\t\t\tif j<set[i-1]: \n",
    "\t\t\t\tsubset[i][j] = subset[i-1][j] \n",
    "\t\t\tif j>= set[i-1]: \n",
    "\t\t\t\tsubset[i][j] = (subset[i-1][j] or\n",
    "\t\t\t\t\t\t\t\tsubset[i - 1][j-set[i-1]]) \n",
    "\n",
    "\treturn subset[n][sum] \n",
    "\n",
    "if __name__=='__main__': \n",
    "\tset = [3, 34, 4, 12, 5, 2] \n",
    "\tsum = 9\n",
    "\tn = len(set) \n",
    "\tif (isSubsetSum(set, n, sum) == True): \n",
    "\t\tprint(\"Found a subset with given sum\") \n",
    "\telse: \n",
    "\t\tprint(\"No subset with given sum\") \n",
    "\t\t\n",
    "\n"
   ]
  },
  {
   "cell_type": "code",
   "execution_count": null,
   "metadata": {},
   "outputs": [],
   "source": []
  }
 ],
 "metadata": {
  "kernelspec": {
   "display_name": "Python 3",
   "language": "python",
   "name": "python3"
  },
  "language_info": {
   "codemirror_mode": {
    "name": "ipython",
    "version": 3
   },
   "file_extension": ".py",
   "mimetype": "text/x-python",
   "name": "python",
   "nbconvert_exporter": "python",
   "pygments_lexer": "ipython3",
   "version": "3.7.7"
  }
 },
 "nbformat": 4,
 "nbformat_minor": 4
}
