{
 "cells": [
  {
   "cell_type": "code",
   "execution_count": null,
   "metadata": {},
   "outputs": [],
   "source": [
    "def isEqual(arr,n):\n",
    "    Tsum=0\n",
    "    \n",
    "    for i in range(n):\n",
    "        Tsum+=arr[i]\n",
    "    \n",
    "    if Tsum%2==0:\n",
    "        sum = Tsum/2\n",
    "        if n==0:\n",
    "            return False\n",
    "        else:\n",
    "            return isEqual(arr, n-1, sum) \n",
    "        \n",
    "        \n"
   ]
  }
 ],
 "metadata": {
  "kernelspec": {
   "display_name": "Python 3",
   "language": "python",
   "name": "python3"
  },
  "language_info": {
   "codemirror_mode": {
    "name": "ipython",
    "version": 3
   },
   "file_extension": ".py",
   "mimetype": "text/x-python",
   "name": "python",
   "nbconvert_exporter": "python",
   "pygments_lexer": "ipython3",
   "version": "3.7.7"
  }
 },
 "nbformat": 4,
 "nbformat_minor": 4
}
